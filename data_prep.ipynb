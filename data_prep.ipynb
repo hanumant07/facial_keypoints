{
 "cells": [
  {
   "cell_type": "code",
   "execution_count": null,
   "metadata": {},
   "outputs": [],
   "source": []
  },
  {
   "cell_type": "code",
   "execution_count": 1,
   "metadata": {},
   "outputs": [
    {
     "name": "stderr",
     "output_type": "stream",
     "text": [
      "/Users/Gunners/anaconda3/lib/python3.6/site-packages/h5py/__init__.py:36: FutureWarning: Conversion of the second argument of issubdtype from `float` to `np.floating` is deprecated. In future, it will be treated as `np.float64 == np.dtype(float).type`.\n",
      "  from ._conv import register_converters as _register_converters\n"
     ]
    }
   ],
   "source": [
    "import pandas as pd\n",
    "from matplotlib import pyplot as plt\n",
    "import tensorflow as tf\n",
    "import zipfile\n",
    "import numpy as np"
   ]
  },
  {
   "cell_type": "code",
   "execution_count": 2,
   "metadata": {},
   "outputs": [],
   "source": [
    "ZIP_FILE='all.zip'\n",
    "DATA_DIR='./data'\n",
    "ID_LOOKUP=DATA_DIR+'/IdLookupTable.csv'\n",
    "TRAIN_CSV=DATA_DIR+'/train/training.csv'\n",
    "TEST_CSV=DATA_DIR+'/test/test.csv'"
   ]
  },
  {
   "cell_type": "code",
   "execution_count": 3,
   "metadata": {},
   "outputs": [],
   "source": [
    "def unzip_data(path, out_dir):\n",
    "    handle = zipfile.ZipFile(path, 'r')\n",
    "    handle.extractall(out_dir)\n",
    "    handle.close()\n",
    "    handle = zipfile.ZipFile(out_dir+'/training.zip', 'r')\n",
    "    handle.extractall(out_dir+'/train')\n",
    "    handle.close()\n",
    "    handle = zipfile.ZipFile(out_dir+'/test.zip', 'r')\n",
    "    handle.extractall(out_dir+'/test')\n",
    "    handle.close()"
   ]
  },
  {
   "cell_type": "code",
   "execution_count": 4,
   "metadata": {},
   "outputs": [],
   "source": [
    "unzip_data(ZIP_FILE, DATA_DIR)"
   ]
  },
  {
   "cell_type": "code",
   "execution_count": 7,
   "metadata": {},
   "outputs": [
    {
     "name": "stdout",
     "output_type": "stream",
     "text": [
      "data_prep.ipynb\r\n"
     ]
    }
   ],
   "source": [
    "%pwd\n",
    "%ls"
   ]
  },
  {
   "cell_type": "code",
   "execution_count": 8,
   "metadata": {},
   "outputs": [],
   "source": [
    "df_train = pd.read_csv(TRAIN_CSV)\n",
    "# drop entries with missing entries\n",
    "df_train = df_train.dropna()\n"
   ]
  },
  {
   "cell_type": "code",
   "execution_count": 9,
   "metadata": {},
   "outputs": [
    {
     "name": "stdout",
     "output_type": "stream",
     "text": [
      "(2140, 1, 96, 96)\n",
      "(2140, 30)\n"
     ]
    }
   ],
   "source": [
    "feature_names = [col for col in df_train.columns]\n",
    "\n",
    "df_train['Image'] = df_train['Image'].apply(lambda img: np.fromstring(img, sep = ' '))\n",
    "images = np.vstack(df_train['Image'].values)\n",
    "images = images.astype(np.float32)\n",
    "images = images.reshape(-1, 1, 96, 96)\n",
    "coordinates = df_train[feature_names[:-1]].values\n",
    "\n",
    "print(images.shape)\n",
    "print(coordinates.shape)\n",
    "\n",
    "#print(type(images))"
   ]
  },
  {
   "cell_type": "code",
   "execution_count": null,
   "metadata": {},
   "outputs": [],
   "source": [
    "class DataGen():\n",
    "    def __init__(self, data_zip, data_out_path):\n",
    "        self._data_zip = data_zip\n",
    "        self._data_loc = data_out_path\n",
    "        self._image_data = {}\n",
    "        self._labels = {}\n",
    "\n",
    "    def _unzip_data(self):\n",
    "        handle = zipfile.ZipFile(self._data_zip, 'r')\n",
    "        handle.extractall(self._data_loc)\n",
    "        handle.close()\n",
    "        handle = zipfile.ZipFile(self._data_loc+'/training.zip', 'r')\n",
    "        handle.extractall(self._data_loc+'/train')\n",
    "        handle.close()\n",
    "        handle = zipfile.ZipFile(self._data_loc+'/test.zip', 'r')\n",
    "        handle.extractall(out_dir+'/test')\n",
    "        handle.close()\n",
    "        \n",
    "    def _prep_data(self, type_info):\n",
    "        df = pd.read_csv(type_info['path']).dropna()\n",
    "        # extract column names\n",
    "        feature_names = [col for col in df_train.columns]\n",
    "        # isolate image data\n",
    "        df['Image'] = df['Image'].apply(lambda img: np.fromstring(img, sep = ' '))\n",
    "        images = np.vstack(df['Image'].values)\n",
    "        images = images.astype(np.float32)\n",
    "        images = images.reshape(-1, 1, 96, 96)\n",
    "        # isolate coordinates\n",
    "        coordinates = df[feature_names[:-1]].values\n",
    "\n",
    "        assert(images.shape[0] == coordinates.shape[0])\n",
    "        self._images[type_info['mode']] = images\n",
    "        self._labels[type_info['mode']] = coordinates\n",
    "\n",
    "    def prep_data(self):\n",
    "        # TODO: Add call to unzip\n",
    "        # prepare training data\n",
    "        modes = ['train', 'test']\n",
    "        path = [x : x in self._data_loc+'/'+mode for mode in ('training', 'test')]\n",
    "        \n",
    "        \n",
    "    \n",
    "    def get_data_set(self):\n",
    "        \n",
    "        \n",
    "        data = tf.data.Dataset.from_tensor_slices()\n",
    "        \n",
    "        \n",
    "    \n",
    "        "
   ]
  },
  {
   "cell_type": "code",
   "execution_count": 12,
   "metadata": {},
   "outputs": [
    {
     "name": "stdout",
     "output_type": "stream",
     "text": [
      "9216\n"
     ]
    }
   ],
   "source": [
    "print(len(df_train['Image'][0]))"
   ]
  },
  {
   "cell_type": "code",
   "execution_count": null,
   "metadata": {},
   "outputs": [],
   "source": [
    "images = images.astype(np.float32)\n",
    "images = images.reshape(-1, 96, 96, 1)\n",
    "\n",
    "print(features.shape)\n",
    "print(type(features))\n",
    "\n",
    "print(type(images))\n",
    "print(images.shape)\n",
    "\n"
   ]
  },
  {
   "cell_type": "code",
   "execution_count": null,
   "metadata": {},
   "outputs": [],
   "source": []
  },
  {
   "cell_type": "markdown",
   "metadata": {},
   "source": [
    "# New heading"
   ]
  }
 ],
 "metadata": {
  "kernelspec": {
   "display_name": "Python 3",
   "language": "python",
   "name": "python3"
  },
  "language_info": {
   "codemirror_mode": {
    "name": "ipython",
    "version": 3
   },
   "file_extension": ".py",
   "mimetype": "text/x-python",
   "name": "python",
   "nbconvert_exporter": "python",
   "pygments_lexer": "ipython3",
   "version": "3.6.4"
  }
 },
 "nbformat": 4,
 "nbformat_minor": 2
}
