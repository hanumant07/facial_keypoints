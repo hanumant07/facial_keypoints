{
 "cells": [
  {
   "cell_type": "code",
   "execution_count": null,
   "metadata": {},
   "outputs": [],
   "source": []
  },
  {
   "cell_type": "code",
   "execution_count": 1,
   "metadata": {},
   "outputs": [],
   "source": [
    "import pandas as pd\n",
    "from matplotlib import pyplot as plt\n",
    "import tensorflow as tf\n",
    "import zipfile\n",
    "import numpy as np"
   ]
  },
  {
   "cell_type": "code",
   "execution_count": 2,
   "metadata": {},
   "outputs": [],
   "source": [
    "ZIP_FILE='all.zip'\n",
    "DATA_DIR='./data'\n",
    "ID_LOOKUP=DATA_DIR+'/IdLookupTable.csv'\n",
    "TRAIN_CSV=DATA_DIR+'/train/training.csv'\n",
    "TEST_CSV=DATA_DIR+'/test/test.csv'"
   ]
  },
  {
   "cell_type": "code",
   "execution_count": 3,
   "metadata": {},
   "outputs": [],
   "source": [
    "def unzip_data(path, out_dir):\n",
    "    handle = zipfile.ZipFile(path, 'r')\n",
    "    handle.extractall(out_dir)\n",
    "    handle.close()\n",
    "    handle = zipfile.ZipFile(out_dir+'/training.zip', 'r')\n",
    "    handle.extractall(out_dir+'/train')\n",
    "    handle.close()\n",
    "    handle = zipfile.ZipFile(out_dir+'/test.zip', 'r')\n",
    "    handle.extractall(out_dir+'/test')\n",
    "    handle.close()"
   ]
  },
  {
   "cell_type": "code",
   "execution_count": 4,
   "metadata": {},
   "outputs": [],
   "source": [
    "unzip_data(ZIP_FILE, DATA_DIR)"
   ]
  },
  {
   "cell_type": "code",
   "execution_count": 5,
   "metadata": {},
   "outputs": [],
   "source": [
    "df = pd.read_csv(ID_LOOKUP)"
   ]
  },
  {
   "cell_type": "code",
   "execution_count": 19,
   "metadata": {},
   "outputs": [],
   "source": [
    "df_train = pd.read_csv(TRAIN_CSV)\n",
    "# drop entries with no numbers\n",
    "df_train = df_train.dropna()\n"
   ]
  },
  {
   "cell_type": "code",
   "execution_count": 20,
   "metadata": {},
   "outputs": [
    {
     "name": "stdout",
     "output_type": "stream",
     "text": [
      "(2140, 1, 96, 96)\n",
      "(2140, 30)\n"
     ]
    }
   ],
   "source": [
    "feature_names = [col for col in df_train.columns]\n",
    "\n",
    "df_train['Image'] = df_train['Image'].apply(lambda img: np.fromstring(img, sep = ' '))\n",
    "images = np.vstack(df_train['Image'].values)\n",
    "images = images.astype(np.float32)\n",
    "images = images.reshape(-1, 1, 96, 96)\n",
    "coordinates = df_train[feature_names[:-1]].values\n",
    "\n",
    "print(images.shape)\n",
    "print(coordinates.shape)\n",
    "\n",
    "#print(type(images))"
   ]
  },
  {
   "cell_type": "code",
   "execution_count": null,
   "metadata": {},
   "outputs": [],
   "source": []
  },
  {
   "cell_type": "code",
   "execution_count": 12,
   "metadata": {},
   "outputs": [
    {
     "name": "stdout",
     "output_type": "stream",
     "text": [
      "9216\n"
     ]
    }
   ],
   "source": [
    "print(len(df_train['Image'][0]))"
   ]
  },
  {
   "cell_type": "code",
   "execution_count": null,
   "metadata": {},
   "outputs": [],
   "source": [
    "images = images.astype(np.float32)\n",
    "images = images.reshape(-1, 96, 96, 1)\n",
    "\n",
    "print(features.shape)\n",
    "print(type(features))\n",
    "\n",
    "print(type(images))\n",
    "print(images.shape)\n",
    "\n"
   ]
  },
  {
   "cell_type": "code",
   "execution_count": null,
   "metadata": {},
   "outputs": [],
   "source": []
  },
  {
   "cell_type": "markdown",
   "metadata": {},
   "source": [
    "# New heading"
   ]
  }
 ],
 "metadata": {
  "kernelspec": {
   "display_name": "Python 3",
   "language": "python",
   "name": "python3"
  },
  "language_info": {
   "codemirror_mode": {
    "name": "ipython",
    "version": 3
   },
   "file_extension": ".py",
   "mimetype": "text/x-python",
   "name": "python",
   "nbconvert_exporter": "python",
   "pygments_lexer": "ipython3",
   "version": "3.6.4"
  }
 },
 "nbformat": 4,
 "nbformat_minor": 2
}
